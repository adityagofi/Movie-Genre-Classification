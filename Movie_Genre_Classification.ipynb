{
 "cells": [
  {
   "cell_type": "code",
   "execution_count": 1,
   "metadata": {
    "id": "KEjvoFIuGlNm"
   },
   "outputs": [],
   "source": [
    "%%capture\n",
    "!pip install opendatasets"
   ]
  },
  {
   "cell_type": "code",
   "execution_count": 2,
   "metadata": {
    "colab": {
     "base_uri": "https://localhost:8080/"
    },
    "id": "zTxxnvSbIJqM",
    "outputId": "588d7730-d4f6-4730-8351-259ff62cc96d"
   },
   "outputs": [
    {
     "name": "stdout",
     "output_type": "stream",
     "text": [
      "Dataset URL: https://www.kaggle.com/datasets/hijest/genre-classification-dataset-imdb\n",
      "Downloading genre-classification-dataset-imdb.zip to .\\genre-classification-dataset-imdb\n"
     ]
    },
    {
     "name": "stderr",
     "output_type": "stream",
     "text": [
      "100%|██████████| 41.7M/41.7M [00:06<00:00, 6.45MB/s]\n"
     ]
    },
    {
     "name": "stdout",
     "output_type": "stream",
     "text": [
      "\n"
     ]
    }
   ],
   "source": [
    "import opendatasets as od\n",
    "import pandas as pd\n",
    "\n",
    "od.download(\n",
    "    \"https://www.kaggle.com/datasets/hijest/genre-classification-dataset-imdb/data\"\n",
    ")"
   ]
  },
  {
   "cell_type": "code",
   "execution_count": 39,
   "metadata": {
    "colab": {
     "base_uri": "https://localhost:8080/"
    },
    "id": "5BCiRo_4ITqW",
    "outputId": "9edd702b-e6f6-4030-c6da-a07ef4df1560"
   },
   "outputs": [
    {
     "name": "stderr",
     "output_type": "stream",
     "text": [
      "C:\\Users\\ACER\\AppData\\Local\\Temp\\ipykernel_26752\\3304676819.py:1: ParserWarning: Falling back to the 'python' engine because the 'c' engine does not support regex separators (separators > 1 char and different from '\\s+' are interpreted as regex); you can avoid this warning by specifying engine='python'.\n",
      "  df_train = pd.read_csv(\"train_data.txt\", delimiter = ':::', names=[\"title\", \"genre\", \"description\"])\n",
      "C:\\Users\\ACER\\AppData\\Local\\Temp\\ipykernel_26752\\3304676819.py:2: ParserWarning: Falling back to the 'python' engine because the 'c' engine does not support regex separators (separators > 1 char and different from '\\s+' are interpreted as regex); you can avoid this warning by specifying engine='python'.\n",
      "  df_test = pd.read_csv(\"test_data.txt\", delimiter = ':::', names=[\"title\", \"description\"])\n"
     ]
    }
   ],
   "source": [
    "df_train = pd.read_csv(\"train_data.txt\", delimiter = ':::', names=[\"title\", \"genre\", \"description\"])\n",
    "df_test = pd.read_csv(\"test_data.txt\", delimiter = ':::', names=[\"title\", \"description\"])"
   ]
  },
  {
   "cell_type": "code",
   "execution_count": 5,
   "metadata": {
    "colab": {
     "base_uri": "https://localhost:8080/",
     "height": 206
    },
    "id": "h4XEFNoNJla6",
    "outputId": "f27148c3-0812-47ba-cabe-e7b3f3a2280c"
   },
   "outputs": [
    {
     "data": {
      "text/html": [
       "<div>\n",
       "<style scoped>\n",
       "    .dataframe tbody tr th:only-of-type {\n",
       "        vertical-align: middle;\n",
       "    }\n",
       "\n",
       "    .dataframe tbody tr th {\n",
       "        vertical-align: top;\n",
       "    }\n",
       "\n",
       "    .dataframe thead th {\n",
       "        text-align: right;\n",
       "    }\n",
       "</style>\n",
       "<table border=\"1\" class=\"dataframe\">\n",
       "  <thead>\n",
       "    <tr style=\"text-align: right;\">\n",
       "      <th></th>\n",
       "      <th>title</th>\n",
       "      <th>genre</th>\n",
       "      <th>description</th>\n",
       "    </tr>\n",
       "  </thead>\n",
       "  <tbody>\n",
       "    <tr>\n",
       "      <th>1</th>\n",
       "      <td>Oscar et la dame rose (2009)</td>\n",
       "      <td>drama</td>\n",
       "      <td>Listening in to a conversation between his do...</td>\n",
       "    </tr>\n",
       "    <tr>\n",
       "      <th>2</th>\n",
       "      <td>Cupid (1997)</td>\n",
       "      <td>thriller</td>\n",
       "      <td>A brother and sister with a past incestuous r...</td>\n",
       "    </tr>\n",
       "    <tr>\n",
       "      <th>3</th>\n",
       "      <td>Young, Wild and Wonderful (1980)</td>\n",
       "      <td>adult</td>\n",
       "      <td>As the bus empties the students for their fie...</td>\n",
       "    </tr>\n",
       "    <tr>\n",
       "      <th>4</th>\n",
       "      <td>The Secret Sin (1915)</td>\n",
       "      <td>drama</td>\n",
       "      <td>To help their unemployed father make ends mee...</td>\n",
       "    </tr>\n",
       "    <tr>\n",
       "      <th>5</th>\n",
       "      <td>The Unrecovered (2007)</td>\n",
       "      <td>drama</td>\n",
       "      <td>The film's title refers not only to the un-re...</td>\n",
       "    </tr>\n",
       "  </tbody>\n",
       "</table>\n",
       "</div>"
      ],
      "text/plain": [
       "                                title       genre  \\\n",
       "1       Oscar et la dame rose (2009)       drama    \n",
       "2                       Cupid (1997)    thriller    \n",
       "3   Young, Wild and Wonderful (1980)       adult    \n",
       "4              The Secret Sin (1915)       drama    \n",
       "5             The Unrecovered (2007)       drama    \n",
       "\n",
       "                                         description  \n",
       "1   Listening in to a conversation between his do...  \n",
       "2   A brother and sister with a past incestuous r...  \n",
       "3   As the bus empties the students for their fie...  \n",
       "4   To help their unemployed father make ends mee...  \n",
       "5   The film's title refers not only to the un-re...  "
      ]
     },
     "execution_count": 5,
     "metadata": {},
     "output_type": "execute_result"
    }
   ],
   "source": [
    "df_train.head(5)"
   ]
  },
  {
   "cell_type": "code",
   "execution_count": 6,
   "metadata": {
    "colab": {
     "base_uri": "https://localhost:8080/",
     "height": 206
    },
    "id": "PVTqblcAKNeI",
    "outputId": "f503ebd8-0826-4276-c325-8db2135dc456"
   },
   "outputs": [
    {
     "data": {
      "text/html": [
       "<div>\n",
       "<style scoped>\n",
       "    .dataframe tbody tr th:only-of-type {\n",
       "        vertical-align: middle;\n",
       "    }\n",
       "\n",
       "    .dataframe tbody tr th {\n",
       "        vertical-align: top;\n",
       "    }\n",
       "\n",
       "    .dataframe thead th {\n",
       "        text-align: right;\n",
       "    }\n",
       "</style>\n",
       "<table border=\"1\" class=\"dataframe\">\n",
       "  <thead>\n",
       "    <tr style=\"text-align: right;\">\n",
       "      <th></th>\n",
       "      <th>title</th>\n",
       "      <th>description</th>\n",
       "    </tr>\n",
       "  </thead>\n",
       "  <tbody>\n",
       "    <tr>\n",
       "      <th>1</th>\n",
       "      <td>Edgar's Lunch (1998)</td>\n",
       "      <td>L.R. Brane loves his life - his car, his apar...</td>\n",
       "    </tr>\n",
       "    <tr>\n",
       "      <th>2</th>\n",
       "      <td>La guerra de papá (1977)</td>\n",
       "      <td>Spain, March 1964: Quico is a very naughty ch...</td>\n",
       "    </tr>\n",
       "    <tr>\n",
       "      <th>3</th>\n",
       "      <td>Off the Beaten Track (2010)</td>\n",
       "      <td>One year in the life of Albin and his family ...</td>\n",
       "    </tr>\n",
       "    <tr>\n",
       "      <th>4</th>\n",
       "      <td>Meu Amigo Hindu (2015)</td>\n",
       "      <td>His father has died, he hasn't spoken with hi...</td>\n",
       "    </tr>\n",
       "    <tr>\n",
       "      <th>5</th>\n",
       "      <td>Er nu zhai (1955)</td>\n",
       "      <td>Before he was known internationally as a mart...</td>\n",
       "    </tr>\n",
       "  </tbody>\n",
       "</table>\n",
       "</div>"
      ],
      "text/plain": [
       "                           title  \\\n",
       "1          Edgar's Lunch (1998)    \n",
       "2      La guerra de papá (1977)    \n",
       "3   Off the Beaten Track (2010)    \n",
       "4        Meu Amigo Hindu (2015)    \n",
       "5             Er nu zhai (1955)    \n",
       "\n",
       "                                         description  \n",
       "1   L.R. Brane loves his life - his car, his apar...  \n",
       "2   Spain, March 1964: Quico is a very naughty ch...  \n",
       "3   One year in the life of Albin and his family ...  \n",
       "4   His father has died, he hasn't spoken with hi...  \n",
       "5   Before he was known internationally as a mart...  "
      ]
     },
     "execution_count": 6,
     "metadata": {},
     "output_type": "execute_result"
    }
   ],
   "source": [
    "df_test.head(5)"
   ]
  },
  {
   "cell_type": "code",
   "execution_count": 7,
   "metadata": {
    "colab": {
     "base_uri": "https://localhost:8080/",
     "height": 178
    },
    "id": "4pMjmDrwSNlU",
    "outputId": "b67bae48-ed44-4d6d-ddc7-13ce9278d633"
   },
   "outputs": [
    {
     "data": {
      "text/plain": [
       "title          0\n",
       "genre          0\n",
       "description    0\n",
       "dtype: int64"
      ]
     },
     "execution_count": 7,
     "metadata": {},
     "output_type": "execute_result"
    }
   ],
   "source": [
    "df_train.isna().sum()"
   ]
  },
  {
   "cell_type": "code",
   "execution_count": 8,
   "metadata": {
    "colab": {
     "base_uri": "https://localhost:8080/"
    },
    "id": "SRd9tPmlTuA3",
    "outputId": "5bd44b64-6414-421f-ecc6-a6e35254be03"
   },
   "outputs": [
    {
     "data": {
      "text/plain": [
       "27"
      ]
     },
     "execution_count": 8,
     "metadata": {},
     "output_type": "execute_result"
    }
   ],
   "source": [
    "df_train[\"genre\"].nunique()"
   ]
  },
  {
   "cell_type": "code",
   "execution_count": 9,
   "metadata": {
    "colab": {
     "base_uri": "https://localhost:8080/",
     "height": 962
    },
    "id": "VKRJGcTUUABF",
    "outputId": "0a8d8bab-df51-43f1-88eb-644550e4f340"
   },
   "outputs": [
    {
     "data": {
      "text/plain": [
       "genre\n",
       "drama           13613\n",
       "documentary     13096\n",
       "comedy           7447\n",
       "short            5073\n",
       "horror           2204\n",
       "thriller         1591\n",
       "action           1315\n",
       "western          1032\n",
       "reality-tv        884\n",
       "family            784\n",
       "adventure         775\n",
       "music             731\n",
       "romance           672\n",
       "sci-fi            647\n",
       "adult             590\n",
       "crime             505\n",
       "animation         498\n",
       "sport             432\n",
       "talk-show         391\n",
       "fantasy           323\n",
       "mystery           319\n",
       "musical           277\n",
       "biography         265\n",
       "history           243\n",
       "game-show         194\n",
       "news              181\n",
       "war               132\n",
       "Name: count, dtype: int64"
      ]
     },
     "execution_count": 9,
     "metadata": {},
     "output_type": "execute_result"
    }
   ],
   "source": [
    "df_train[\"genre\"].value_counts()"
   ]
  },
  {
   "cell_type": "code",
   "execution_count": 11,
   "metadata": {
    "colab": {
     "base_uri": "https://localhost:8080/",
     "height": 556
    },
    "id": "9viTOyMAVLNl",
    "outputId": "ccbb89f2-45b4-4232-8ac3-2c4c1e356f66"
   },
   "outputs": [
    {
     "name": "stderr",
     "output_type": "stream",
     "text": [
      "C:\\Users\\ACER\\AppData\\Local\\Temp\\ipykernel_26752\\1789403970.py:5: FutureWarning: \n",
      "\n",
      "Passing `palette` without assigning `hue` is deprecated and will be removed in v0.14.0. Assign the `y` variable to `hue` and set `legend=False` for the same effect.\n",
      "\n",
      "  sns.countplot(data = df_train,\n"
     ]
    },
    {
     "data": {
      "image/png": "[encoded data removed]",
      "text/plain": [
       "<Figure size 1200x500 with 1 Axes>"
      ]
     },
     "metadata": {},
     "output_type": "display_data"
    }
   ],
   "source": [
    "import seaborn as sns\n",
    "import matplotlib.pyplot as plt\n",
    "\n",
    "plt.figure(figsize = (12,5))\n",
    "sns.countplot(data = df_train,\n",
    "              y=\"genre\",\n",
    "              order = df_train[\"genre\"].value_counts().index,\n",
    "              palette = \"rocket\",\n",
    "              legend = False)\n",
    "for i, count in enumerate(df_train['genre'].value_counts()):\n",
    "    plt.text(count, i, str(count), va='center', ha='left')\n",
    "plt.xlabel(\"Number of Movies\")\n",
    "plt.ylabel(\"Genre\")\n",
    "plt.show()"
   ]
  },
  {
   "cell_type": "code",
   "execution_count": 40,
   "metadata": {
    "id": "6YdL3lhiVcyU"
   },
   "outputs": [],
   "source": [
    "import re\n",
    "\n",
    "def clean_text(text):\n",
    "    text = text.lower()\n",
    "    text = re.sub(r'[^a-zA-Z0-9\\s]', '', text)\n",
    "    text = re.sub(r'https\\s+', '', text)\n",
    "    text = re.sub(r'@\\s+', '', text)\n",
    "    text = re.sub(r'#\\s+', '', text)\n",
    "    text = re.sub(r'\\s+', ' ', text)\n",
    "    return text\n",
    "\n",
    "df_train['description'] = df_train['description'].apply(clean_text)\n",
    "df_test['description'] = df_test['description'].apply(clean_text)"
   ]
  },
  {
   "cell_type": "code",
   "execution_count": 41,
   "metadata": {
    "colab": {
     "base_uri": "https://localhost:8080/",
     "height": 423
    },
    "id": "dh0YRk9kifVo",
    "outputId": "ae27245c-7965-4622-d0b5-91415a26739e"
   },
   "outputs": [
    {
     "data": {
      "text/html": [
       "<div>\n",
       "<style scoped>\n",
       "    .dataframe tbody tr th:only-of-type {\n",
       "        vertical-align: middle;\n",
       "    }\n",
       "\n",
       "    .dataframe tbody tr th {\n",
       "        vertical-align: top;\n",
       "    }\n",
       "\n",
       "    .dataframe thead th {\n",
       "        text-align: right;\n",
       "    }\n",
       "</style>\n",
       "<table border=\"1\" class=\"dataframe\">\n",
       "  <thead>\n",
       "    <tr style=\"text-align: right;\">\n",
       "      <th></th>\n",
       "      <th>title</th>\n",
       "      <th>genre</th>\n",
       "      <th>description</th>\n",
       "    </tr>\n",
       "  </thead>\n",
       "  <tbody>\n",
       "    <tr>\n",
       "      <th>1</th>\n",
       "      <td>Oscar et la dame rose (2009)</td>\n",
       "      <td>drama</td>\n",
       "      <td>listening in to a conversation between his do...</td>\n",
       "    </tr>\n",
       "    <tr>\n",
       "      <th>2</th>\n",
       "      <td>Cupid (1997)</td>\n",
       "      <td>thriller</td>\n",
       "      <td>a brother and sister with a past incestuous r...</td>\n",
       "    </tr>\n",
       "    <tr>\n",
       "      <th>3</th>\n",
       "      <td>Young, Wild and Wonderful (1980)</td>\n",
       "      <td>adult</td>\n",
       "      <td>as the bus empties the students for their fie...</td>\n",
       "    </tr>\n",
       "    <tr>\n",
       "      <th>4</th>\n",
       "      <td>The Secret Sin (1915)</td>\n",
       "      <td>drama</td>\n",
       "      <td>to help their unemployed father make ends mee...</td>\n",
       "    </tr>\n",
       "    <tr>\n",
       "      <th>5</th>\n",
       "      <td>The Unrecovered (2007)</td>\n",
       "      <td>drama</td>\n",
       "      <td>the films title refers not only to the unreco...</td>\n",
       "    </tr>\n",
       "    <tr>\n",
       "      <th>...</th>\n",
       "      <td>...</td>\n",
       "      <td>...</td>\n",
       "      <td>...</td>\n",
       "    </tr>\n",
       "    <tr>\n",
       "      <th>54210</th>\n",
       "      <td>\"Bonino\" (1953)</td>\n",
       "      <td>comedy</td>\n",
       "      <td>this shortlived nbc live sitcom centered on b...</td>\n",
       "    </tr>\n",
       "    <tr>\n",
       "      <th>54211</th>\n",
       "      <td>Dead Girls Don't Cry (????)</td>\n",
       "      <td>horror</td>\n",
       "      <td>the next generation of exploitation the siste...</td>\n",
       "    </tr>\n",
       "    <tr>\n",
       "      <th>54212</th>\n",
       "      <td>Ronald Goedemondt: Ze bestaan echt (2008)</td>\n",
       "      <td>documentary</td>\n",
       "      <td>ze bestaan echt is a standup comedy about gro...</td>\n",
       "    </tr>\n",
       "    <tr>\n",
       "      <th>54213</th>\n",
       "      <td>Make Your Own Bed (1944)</td>\n",
       "      <td>comedy</td>\n",
       "      <td>walter and vivian live in the country and hav...</td>\n",
       "    </tr>\n",
       "    <tr>\n",
       "      <th>54214</th>\n",
       "      <td>Nature's Fury: Storm of the Century (2006)</td>\n",
       "      <td>history</td>\n",
       "      <td>on labor day weekend 1935 the most intense hu...</td>\n",
       "    </tr>\n",
       "  </tbody>\n",
       "</table>\n",
       "<p>54214 rows × 3 columns</p>\n",
       "</div>"
      ],
      "text/plain": [
       "                                              title          genre  \\\n",
       "1                     Oscar et la dame rose (2009)          drama    \n",
       "2                                     Cupid (1997)       thriller    \n",
       "3                 Young, Wild and Wonderful (1980)          adult    \n",
       "4                            The Secret Sin (1915)          drama    \n",
       "5                           The Unrecovered (2007)          drama    \n",
       "...                                             ...            ...   \n",
       "54210                              \"Bonino\" (1953)         comedy    \n",
       "54211                  Dead Girls Don't Cry (????)         horror    \n",
       "54212    Ronald Goedemondt: Ze bestaan echt (2008)    documentary    \n",
       "54213                     Make Your Own Bed (1944)         comedy    \n",
       "54214   Nature's Fury: Storm of the Century (2006)        history    \n",
       "\n",
       "                                             description  \n",
       "1       listening in to a conversation between his do...  \n",
       "2       a brother and sister with a past incestuous r...  \n",
       "3       as the bus empties the students for their fie...  \n",
       "4       to help their unemployed father make ends mee...  \n",
       "5       the films title refers not only to the unreco...  \n",
       "...                                                  ...  \n",
       "54210   this shortlived nbc live sitcom centered on b...  \n",
       "54211   the next generation of exploitation the siste...  \n",
       "54212   ze bestaan echt is a standup comedy about gro...  \n",
       "54213   walter and vivian live in the country and hav...  \n",
       "54214   on labor day weekend 1935 the most intense hu...  \n",
       "\n",
       "[54214 rows x 3 columns]"
      ]
     },
     "execution_count": 41,
     "metadata": {},
     "output_type": "execute_result"
    }
   ],
   "source": [
    "df_train"
   ]
  },
  {
   "cell_type": "code",
   "execution_count": 43,
   "metadata": {},
   "outputs": [
    {
     "data": {
      "text/html": [
       "<div>\n",
       "<style scoped>\n",
       "    .dataframe tbody tr th:only-of-type {\n",
       "        vertical-align: middle;\n",
       "    }\n",
       "\n",
       "    .dataframe tbody tr th {\n",
       "        vertical-align: top;\n",
       "    }\n",
       "\n",
       "    .dataframe thead th {\n",
       "        text-align: right;\n",
       "    }\n",
       "</style>\n",
       "<table border=\"1\" class=\"dataframe\">\n",
       "  <thead>\n",
       "    <tr style=\"text-align: right;\">\n",
       "      <th></th>\n",
       "      <th>about</th>\n",
       "      <th>across</th>\n",
       "      <th>after</th>\n",
       "      <th>again</th>\n",
       "      <th>against</th>\n",
       "      <th>all</th>\n",
       "      <th>along</th>\n",
       "      <th>also</th>\n",
       "      <th>always</th>\n",
       "      <th>american</th>\n",
       "      <th>...</th>\n",
       "      <th>work</th>\n",
       "      <th>working</th>\n",
       "      <th>world</th>\n",
       "      <th>would</th>\n",
       "      <th>year</th>\n",
       "      <th>years</th>\n",
       "      <th>york</th>\n",
       "      <th>you</th>\n",
       "      <th>young</th>\n",
       "      <th>your</th>\n",
       "    </tr>\n",
       "  </thead>\n",
       "  <tbody>\n",
       "    <tr>\n",
       "      <th>0</th>\n",
       "      <td>0.000000</td>\n",
       "      <td>0.000000</td>\n",
       "      <td>0.000000</td>\n",
       "      <td>0.0</td>\n",
       "      <td>0.0</td>\n",
       "      <td>0.0</td>\n",
       "      <td>0.0</td>\n",
       "      <td>0.000000</td>\n",
       "      <td>0.0</td>\n",
       "      <td>0.0</td>\n",
       "      <td>...</td>\n",
       "      <td>0.000000</td>\n",
       "      <td>0.0</td>\n",
       "      <td>0.0</td>\n",
       "      <td>0.0</td>\n",
       "      <td>0.0</td>\n",
       "      <td>0.0</td>\n",
       "      <td>0.0</td>\n",
       "      <td>0.0</td>\n",
       "      <td>0.0</td>\n",
       "      <td>0.0</td>\n",
       "    </tr>\n",
       "    <tr>\n",
       "      <th>1</th>\n",
       "      <td>0.000000</td>\n",
       "      <td>0.000000</td>\n",
       "      <td>0.000000</td>\n",
       "      <td>0.0</td>\n",
       "      <td>0.0</td>\n",
       "      <td>0.0</td>\n",
       "      <td>0.0</td>\n",
       "      <td>0.000000</td>\n",
       "      <td>0.0</td>\n",
       "      <td>0.0</td>\n",
       "      <td>...</td>\n",
       "      <td>0.000000</td>\n",
       "      <td>0.0</td>\n",
       "      <td>0.0</td>\n",
       "      <td>0.0</td>\n",
       "      <td>0.0</td>\n",
       "      <td>0.0</td>\n",
       "      <td>0.0</td>\n",
       "      <td>0.0</td>\n",
       "      <td>0.0</td>\n",
       "      <td>0.0</td>\n",
       "    </tr>\n",
       "    <tr>\n",
       "      <th>2</th>\n",
       "      <td>0.000000</td>\n",
       "      <td>0.000000</td>\n",
       "      <td>0.092125</td>\n",
       "      <td>0.0</td>\n",
       "      <td>0.0</td>\n",
       "      <td>0.0</td>\n",
       "      <td>0.0</td>\n",
       "      <td>0.000000</td>\n",
       "      <td>0.0</td>\n",
       "      <td>0.0</td>\n",
       "      <td>...</td>\n",
       "      <td>0.000000</td>\n",
       "      <td>0.0</td>\n",
       "      <td>0.0</td>\n",
       "      <td>0.0</td>\n",
       "      <td>0.0</td>\n",
       "      <td>0.0</td>\n",
       "      <td>0.0</td>\n",
       "      <td>0.0</td>\n",
       "      <td>0.0</td>\n",
       "      <td>0.0</td>\n",
       "    </tr>\n",
       "    <tr>\n",
       "      <th>3</th>\n",
       "      <td>0.067396</td>\n",
       "      <td>0.113849</td>\n",
       "      <td>0.140319</td>\n",
       "      <td>0.0</td>\n",
       "      <td>0.0</td>\n",
       "      <td>0.0</td>\n",
       "      <td>0.0</td>\n",
       "      <td>0.000000</td>\n",
       "      <td>0.0</td>\n",
       "      <td>0.0</td>\n",
       "      <td>...</td>\n",
       "      <td>0.091132</td>\n",
       "      <td>0.0</td>\n",
       "      <td>0.0</td>\n",
       "      <td>0.0</td>\n",
       "      <td>0.0</td>\n",
       "      <td>0.0</td>\n",
       "      <td>0.0</td>\n",
       "      <td>0.0</td>\n",
       "      <td>0.0</td>\n",
       "      <td>0.0</td>\n",
       "    </tr>\n",
       "    <tr>\n",
       "      <th>4</th>\n",
       "      <td>0.000000</td>\n",
       "      <td>0.000000</td>\n",
       "      <td>0.000000</td>\n",
       "      <td>0.0</td>\n",
       "      <td>0.0</td>\n",
       "      <td>0.0</td>\n",
       "      <td>0.0</td>\n",
       "      <td>0.132582</td>\n",
       "      <td>0.0</td>\n",
       "      <td>0.0</td>\n",
       "      <td>...</td>\n",
       "      <td>0.000000</td>\n",
       "      <td>0.0</td>\n",
       "      <td>0.0</td>\n",
       "      <td>0.0</td>\n",
       "      <td>0.0</td>\n",
       "      <td>0.0</td>\n",
       "      <td>0.0</td>\n",
       "      <td>0.0</td>\n",
       "      <td>0.0</td>\n",
       "      <td>0.0</td>\n",
       "    </tr>\n",
       "  </tbody>\n",
       "</table>\n",
       "<p>5 rows × 300 columns</p>\n",
       "</div>"
      ],
      "text/plain": [
       "      about    across     after  again  against  all  along      also  always  \\\n",
       "0  0.000000  0.000000  0.000000    0.0      0.0  0.0    0.0  0.000000     0.0   \n",
       "1  0.000000  0.000000  0.000000    0.0      0.0  0.0    0.0  0.000000     0.0   \n",
       "2  0.000000  0.000000  0.092125    0.0      0.0  0.0    0.0  0.000000     0.0   \n",
       "3  0.067396  0.113849  0.140319    0.0      0.0  0.0    0.0  0.000000     0.0   \n",
       "4  0.000000  0.000000  0.000000    0.0      0.0  0.0    0.0  0.132582     0.0   \n",
       "\n",
       "   american  ...      work  working  world  would  year  years  york  you  \\\n",
       "0       0.0  ...  0.000000      0.0    0.0    0.0   0.0    0.0   0.0  0.0   \n",
       "1       0.0  ...  0.000000      0.0    0.0    0.0   0.0    0.0   0.0  0.0   \n",
       "2       0.0  ...  0.000000      0.0    0.0    0.0   0.0    0.0   0.0  0.0   \n",
       "3       0.0  ...  0.091132      0.0    0.0    0.0   0.0    0.0   0.0  0.0   \n",
       "4       0.0  ...  0.000000      0.0    0.0    0.0   0.0    0.0   0.0  0.0   \n",
       "\n",
       "   young  your  \n",
       "0    0.0   0.0  \n",
       "1    0.0   0.0  \n",
       "2    0.0   0.0  \n",
       "3    0.0   0.0  \n",
       "4    0.0   0.0  \n",
       "\n",
       "[5 rows x 300 columns]"
      ]
     },
     "execution_count": 43,
     "metadata": {},
     "output_type": "execute_result"
    }
   ],
   "source": [
    "from sklearn.feature_extraction.text import TfidfVectorizer\n",
    "\n",
    "# Initialize the TfidfVectorizer\n",
    "tfidf_vectorizer = TfidfVectorizer(max_features=300)\n",
    "\n",
    "# Fit and transform the description column\n",
    "tfidf_train_embeddings = tfidf_vectorizer.fit_transform(df_train['description'])\n",
    "tfidf_test_embeddings = tfidf_vectorizer.transform(df_test['description'])\n",
    "\n",
    "# Convert the embeddings to DataFrame for better readability\n",
    "df_train_tfidf = pd.DataFrame(tfidf_train_embeddings.toarray(), columns=tfidf_vectorizer.get_feature_names_out())\n",
    "df_test_tfidf = pd.DataFrame(tfidf_test_embeddings.toarray(), columns=tfidf_vectorizer.get_feature_names_out())\n",
    "\n",
    "df_train_tfidf.head()"
   ]
  },
  {
   "cell_type": "code",
   "execution_count": 45,
   "metadata": {},
   "outputs": [
    {
     "name": "stdout",
     "output_type": "stream",
     "text": [
      "(54214, 300)\n"
     ]
    }
   ],
   "source": [
    "print(df_train_tfidf.shape)"
   ]
  },
  {
   "cell_type": "code",
   "execution_count": 44,
   "metadata": {},
   "outputs": [
    {
     "name": "stdout",
     "output_type": "stream",
     "text": [
      "Training Accuracy: 0.43140148301176817\n",
      "Classification Report:\n",
      "               precision    recall  f1-score   support\n",
      "\n",
      "      action        0.00      0.00      0.00      1315\n",
      "       adult        0.00      0.00      0.00       590\n",
      "   adventure        0.00      0.00      0.00       775\n",
      "   animation        0.00      0.00      0.00       498\n",
      "   biography        0.00      0.00      0.00       265\n",
      "      comedy        0.44      0.09      0.15      7447\n",
      "       crime        0.00      0.00      0.00       505\n",
      " documentary        0.49      0.88      0.63     13096\n",
      "       drama        0.38      0.82      0.52     13613\n",
      "      family        0.00      0.00      0.00       784\n",
      "     fantasy        0.00      0.00      0.00       323\n",
      "   game-show        1.00      0.02      0.03       194\n",
      "     history        0.00      0.00      0.00       243\n",
      "      horror        1.00      0.00      0.00      2204\n",
      "       music        1.00      0.00      0.00       731\n",
      "     musical        0.00      0.00      0.00       277\n",
      "     mystery        0.00      0.00      0.00       319\n",
      "        news        0.00      0.00      0.00       181\n",
      "  reality-tv        0.00      0.00      0.00       884\n",
      "     romance        0.00      0.00      0.00       672\n",
      "      sci-fi        0.00      0.00      0.00       647\n",
      "       short        0.50      0.00      0.00      5073\n",
      "       sport        0.00      0.00      0.00       432\n",
      "   talk-show        0.00      0.00      0.00       391\n",
      "    thriller        0.00      0.00      0.00      1591\n",
      "         war        0.00      0.00      0.00       132\n",
      "     western        0.00      0.00      0.00      1032\n",
      "\n",
      "     accuracy                           0.43     54214\n",
      "    macro avg       0.18      0.07      0.05     54214\n",
      " weighted avg       0.38      0.43      0.30     54214\n",
      "\n"
     ]
    },
    {
     "name": "stderr",
     "output_type": "stream",
     "text": [
      "c:\\Users\\ACER\\AppData\\Local\\Programs\\Python\\Python312\\Lib\\site-packages\\sklearn\\metrics\\_classification.py:1531: UndefinedMetricWarning: Precision is ill-defined and being set to 0.0 in labels with no predicted samples. Use `zero_division` parameter to control this behavior.\n",
      "  _warn_prf(average, modifier, f\"{metric.capitalize()} is\", len(result))\n",
      "c:\\Users\\ACER\\AppData\\Local\\Programs\\Python\\Python312\\Lib\\site-packages\\sklearn\\metrics\\_classification.py:1531: UndefinedMetricWarning: Precision is ill-defined and being set to 0.0 in labels with no predicted samples. Use `zero_division` parameter to control this behavior.\n",
      "  _warn_prf(average, modifier, f\"{metric.capitalize()} is\", len(result))\n",
      "c:\\Users\\ACER\\AppData\\Local\\Programs\\Python\\Python312\\Lib\\site-packages\\sklearn\\metrics\\_classification.py:1531: UndefinedMetricWarning: Precision is ill-defined and being set to 0.0 in labels with no predicted samples. Use `zero_division` parameter to control this behavior.\n",
      "  _warn_prf(average, modifier, f\"{metric.capitalize()} is\", len(result))\n"
     ]
    }
   ],
   "source": [
    "from sklearn.naive_bayes import MultinomialNB\n",
    "from sklearn.preprocessing import LabelEncoder\n",
    "from sklearn.metrics import accuracy_score, classification_report\n",
    "\n",
    "# Encode the target labels\n",
    "le = LabelEncoder()\n",
    "y_train = le.fit_transform(df_train['genre'])\n",
    "\n",
    "# Initialize the Multinomial Naive Bayes classifier\n",
    "nb_classifier = MultinomialNB()\n",
    "\n",
    "# Train the classifier\n",
    "nb_classifier.fit(tfidf_train_embeddings, y_train)\n",
    "\n",
    "# Predict on the training set\n",
    "y_train_pred = nb_classifier.predict(tfidf_train_embeddings)\n",
    "\n",
    "# Evaluate the classifier\n",
    "accuracy = accuracy_score(y_train, y_train_pred)\n",
    "report = classification_report(y_train, y_train_pred, target_names=le.classes_)\n",
    "\n",
    "print(f\"Training Accuracy: {accuracy}\")\n",
    "print(f\"Classification Report:\\n{report}\")"
   ]
  },
  {
   "cell_type": "code",
   "execution_count": 46,
   "metadata": {},
   "outputs": [
    {
     "name": "stdout",
     "output_type": "stream",
     "text": [
      "Training Accuracy with Random Forest: 0.9973807503596857\n",
      "Classification Report with Random Forest:\n",
      "               precision    recall  f1-score   support\n",
      "\n",
      "      action        1.00      1.00      1.00      1315\n",
      "       adult        1.00      1.00      1.00       590\n",
      "   adventure        1.00      0.99      1.00       775\n",
      "   animation        1.00      1.00      1.00       498\n",
      "   biography        1.00      1.00      1.00       265\n",
      "      comedy        0.99      1.00      0.99      7447\n",
      "       crime        1.00      1.00      1.00       505\n",
      " documentary        1.00      1.00      1.00     13096\n",
      "       drama        1.00      1.00      1.00     13613\n",
      "      family        0.99      0.99      0.99       784\n",
      "     fantasy        0.99      1.00      1.00       323\n",
      "   game-show        1.00      1.00      1.00       194\n",
      "     history        1.00      1.00      1.00       243\n",
      "      horror        1.00      1.00      1.00      2204\n",
      "       music        1.00      1.00      1.00       731\n",
      "     musical        1.00      0.99      0.99       277\n",
      "     mystery        1.00      1.00      1.00       319\n",
      "        news        1.00      0.99      1.00       181\n",
      "  reality-tv        1.00      1.00      1.00       884\n",
      "     romance        1.00      1.00      1.00       672\n",
      "      sci-fi        1.00      1.00      1.00       647\n",
      "       short        1.00      1.00      1.00      5073\n",
      "       sport        1.00      1.00      1.00       432\n",
      "   talk-show        1.00      0.99      0.99       391\n",
      "    thriller        1.00      1.00      1.00      1591\n",
      "         war        1.00      1.00      1.00       132\n",
      "     western        1.00      1.00      1.00      1032\n",
      "\n",
      "     accuracy                           1.00     54214\n",
      "    macro avg       1.00      1.00      1.00     54214\n",
      " weighted avg       1.00      1.00      1.00     54214\n",
      "\n"
     ]
    }
   ],
   "source": [
    "from sklearn.ensemble import RandomForestClassifier\n",
    "\n",
    "# Initialize the Random Forest classifier\n",
    "rf_classifier = RandomForestClassifier(n_estimators=100, random_state=42)\n",
    "\n",
    "# Train the classifier\n",
    "rf_classifier.fit(tfidf_train_embeddings, y_train)\n",
    "\n",
    "# Predict on the training set\n",
    "y_train_pred_rf = rf_classifier.predict(tfidf_train_embeddings)\n",
    "\n",
    "# Evaluate the classifier\n",
    "accuracy_rf = accuracy_score(y_train, y_train_pred_rf)\n",
    "report_rf = classification_report(y_train, y_train_pred_rf, target_names=le.classes_)\n",
    "\n",
    "print(f\"Training Accuracy with Random Forest: {accuracy_rf}\")\n",
    "print(f\"Classification Report with Random Forest:\\n{report_rf}\")"
   ]
  },
  {
   "cell_type": "code",
   "execution_count": null,
   "metadata": {},
   "outputs": [
    {
     "data": {
      "text/html": [
       "<div>\n",
       "<style scoped>\n",
       "    .dataframe tbody tr th:only-of-type {\n",
       "        vertical-align: middle;\n",
       "    }\n",
       "\n",
       "    .dataframe tbody tr th {\n",
       "        vertical-align: top;\n",
       "    }\n",
       "\n",
       "    .dataframe thead th {\n",
       "        text-align: right;\n",
       "    }\n",
       "</style>\n",
       "<table border=\"1\" class=\"dataframe\">\n",
       "  <thead>\n",
       "    <tr style=\"text-align: right;\">\n",
       "      <th></th>\n",
       "      <th>title</th>\n",
       "      <th>description</th>\n",
       "      <th>predicted_genre_nb</th>\n",
       "      <th>predicted_genre_rf</th>\n",
       "    </tr>\n",
       "  </thead>\n",
       "  <tbody>\n",
       "    <tr>\n",
       "      <th>1</th>\n",
       "      <td>Edgar's Lunch (1998)</td>\n",
       "      <td>lr brane loves his life his car his apartment...</td>\n",
       "      <td>drama</td>\n",
       "      <td>drama</td>\n",
       "    </tr>\n",
       "    <tr>\n",
       "      <th>2</th>\n",
       "      <td>La guerra de papá (1977)</td>\n",
       "      <td>spain march 1964 quico is a very naughty chil...</td>\n",
       "      <td>drama</td>\n",
       "      <td>drama</td>\n",
       "    </tr>\n",
       "    <tr>\n",
       "      <th>3</th>\n",
       "      <td>Off the Beaten Track (2010)</td>\n",
       "      <td>one year in the life of albin and his family ...</td>\n",
       "      <td>documentary</td>\n",
       "      <td>documentary</td>\n",
       "    </tr>\n",
       "    <tr>\n",
       "      <th>4</th>\n",
       "      <td>Meu Amigo Hindu (2015)</td>\n",
       "      <td>his father has died he hasnt spoken with his ...</td>\n",
       "      <td>drama</td>\n",
       "      <td>drama</td>\n",
       "    </tr>\n",
       "    <tr>\n",
       "      <th>5</th>\n",
       "      <td>Er nu zhai (1955)</td>\n",
       "      <td>before he was known internationally as a mart...</td>\n",
       "      <td>drama</td>\n",
       "      <td>documentary</td>\n",
       "    </tr>\n",
       "    <tr>\n",
       "      <th>...</th>\n",
       "      <td>...</td>\n",
       "      <td>...</td>\n",
       "      <td>...</td>\n",
       "      <td>...</td>\n",
       "    </tr>\n",
       "    <tr>\n",
       "      <th>96</th>\n",
       "      <td>\"Showcase\" (2015)</td>\n",
       "      <td>jason thompson presents a selection of some o...</td>\n",
       "      <td>documentary</td>\n",
       "      <td>documentary</td>\n",
       "    </tr>\n",
       "    <tr>\n",
       "      <th>97</th>\n",
       "      <td>Cinderelas, Lobos e Um Príncipe Encantado (20...</td>\n",
       "      <td>around 900 thousand people are trafficked a y...</td>\n",
       "      <td>drama</td>\n",
       "      <td>documentary</td>\n",
       "    </tr>\n",
       "    <tr>\n",
       "      <th>98</th>\n",
       "      <td>It's All in Your Mind (1938)</td>\n",
       "      <td>wilbur crane is a meek mildmannered bookkeepe...</td>\n",
       "      <td>drama</td>\n",
       "      <td>drama</td>\n",
       "    </tr>\n",
       "    <tr>\n",
       "      <th>99</th>\n",
       "      <td>The Ouija Experiment 2: Theatre of Death (2015)</td>\n",
       "      <td>a fun filled weekend turns deadly when a grou...</td>\n",
       "      <td>drama</td>\n",
       "      <td>comedy</td>\n",
       "    </tr>\n",
       "    <tr>\n",
       "      <th>100</th>\n",
       "      <td>Wohin und zurück - Teil 3: Welcome in Vienna ...</td>\n",
       "      <td>in the conclusion of axel cortis trilogy foll...</td>\n",
       "      <td>drama</td>\n",
       "      <td>drama</td>\n",
       "    </tr>\n",
       "  </tbody>\n",
       "</table>\n",
       "<p>100 rows × 4 columns</p>\n",
       "</div>"
      ],
      "text/plain": [
       "                                                 title  \\\n",
       "1                                Edgar's Lunch (1998)    \n",
       "2                            La guerra de papá (1977)    \n",
       "3                         Off the Beaten Track (2010)    \n",
       "4                              Meu Amigo Hindu (2015)    \n",
       "5                                   Er nu zhai (1955)    \n",
       "..                                                 ...   \n",
       "96                                  \"Showcase\" (2015)    \n",
       "97    Cinderelas, Lobos e Um Príncipe Encantado (20...   \n",
       "98                       It's All in Your Mind (1938)    \n",
       "99    The Ouija Experiment 2: Theatre of Death (2015)    \n",
       "100   Wohin und zurück - Teil 3: Welcome in Vienna ...   \n",
       "\n",
       "                                           description predicted_genre_nb  \\\n",
       "1     lr brane loves his life his car his apartment...             drama    \n",
       "2     spain march 1964 quico is a very naughty chil...             drama    \n",
       "3     one year in the life of albin and his family ...       documentary    \n",
       "4     his father has died he hasnt spoken with his ...             drama    \n",
       "5     before he was known internationally as a mart...             drama    \n",
       "..                                                 ...                ...   \n",
       "96    jason thompson presents a selection of some o...       documentary    \n",
       "97    around 900 thousand people are trafficked a y...             drama    \n",
       "98    wilbur crane is a meek mildmannered bookkeepe...             drama    \n",
       "99    a fun filled weekend turns deadly when a grou...             drama    \n",
       "100   in the conclusion of axel cortis trilogy foll...             drama    \n",
       "\n",
       "    predicted_genre_rf  \n",
       "1               drama   \n",
       "2               drama   \n",
       "3         documentary   \n",
       "4               drama   \n",
       "5         documentary   \n",
       "..                 ...  \n",
       "96        documentary   \n",
       "97        documentary   \n",
       "98              drama   \n",
       "99             comedy   \n",
       "100             drama   \n",
       "\n",
       "[100 rows x 4 columns]"
      ]
     },
     "execution_count": 48,
     "metadata": {},
     "output_type": "execute_result"
    }
   ],
   "source": [
    "# Predict on the test set using the Naive Bayes classifier\n",
    "y_test_pred_nb = nb_classifier.predict(tfidf_test_embeddings)\n",
    "\n",
    "# Predict on the test set using the Random Forest classifier\n",
    "y_test_pred_rf = rf_classifier.predict(tfidf_test_embeddings)\n",
    "\n",
    "# Decode the predicted labels back to their original genre names\n",
    "y_test_pred_nb_labels = le.inverse_transform(y_test_pred_nb)\n",
    "y_test_pred_rf_labels = le.inverse_transform(y_test_pred_rf)\n",
    "\n",
    "# Add the predictions to the test dataframe\n",
    "df_test['predicted_genre_nb'] = y_test_pred_nb_labels\n",
    "df_test['predicted_genre_rf'] = y_test_pred_rf_labels"
   ]
  },
  {
   "cell_type": "code",
   "execution_count": 50,
   "metadata": {},
   "outputs": [],
   "source": [
    "df_test.to_csv(\"test_data_with_predictions.csv\", index=False)"
   ]
  }
 ],
 "metadata": {
  "accelerator": "GPU",
  "colab": {
   "gpuType": "T4",
   "provenance": []
  },
  "kernelspec": {
   "display_name": "Python 3",
   "name": "python3"
  },
  "language_info": {
   "codemirror_mode": {
    "name": "ipython",
    "version": 3
   },
   "file_extension": ".py",
   "mimetype": "text/x-python",
   "name": "python",
   "nbconvert_exporter": "python",
   "pygments_lexer": "ipython3",
   "version": "3.12.4"
  }
 },
 "nbformat": 4,
 "nbformat_minor": 0
}
